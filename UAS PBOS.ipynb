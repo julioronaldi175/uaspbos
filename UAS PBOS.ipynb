{
 "cells": [
  {
   "cell_type": "code",
   "execution_count": 15,
   "id": "9daeec93",
   "metadata": {},
   "outputs": [
    {
     "name": "stdout",
     "output_type": "stream",
     "text": [
      "Panjang : 50\n",
      "Lebar : 67\n",
      "Satuan : cm\n",
      "\n",
      "\n",
      "Luas Persegi Panjang : 3350 cm\n",
      "Keliling Persegi Panjang : 234 cm\n"
     ]
    }
   ],
   "source": [
    "def hitungLuas(p, l):\n",
    "    return p*l\n",
    "def hitungKeliling(p, l):\n",
    "    return (2*(p+l))\n",
    "\n",
    "p = int(input(\"Panjang : \"))\n",
    "l = int(input(\"Lebar : \"))\n",
    "sat = input(\"Satuan : \")\n",
    "\n",
    "print(\"\\n\")\n",
    "print (\"Luas Persegi Panjang :\", str(hitungLuas(p, l)) + \" \" + sat)\n",
    "print (\"Keliling Persegi Panjang :\", str(hitungKeliling(p, l)) + \" \" + sat)"
   ]
  },
  {
   "cell_type": "markdown",
   "id": "3a076983",
   "metadata": {},
   "source": []
  },
  {
   "cell_type": "code",
   "execution_count": 16,
   "id": "fab36ab7",
   "metadata": {},
   "outputs": [
    {
     "name": "stdout",
     "output_type": "stream",
     "text": [
      "Nama : Nova\n",
      "NIM : 201103706\n",
      "Alamat : Gg. Bunga Jeruju\n",
      "\n",
      "\n",
      "\n",
      "Nama Mahasiswa : Nova\n",
      "NIM Mahasiswa : 201103706\n",
      "Alamat Mahasiswa : Gg. Bunga Jeruju\n"
     ]
    }
   ],
   "source": [
    "class mahasiswa:\n",
    "    def __init__(self, name, nim, alamat):\n",
    "        self.name = name\n",
    "        self.nim = nim\n",
    "        self.alamat = alamat\n",
    "    \n",
    "nama = input(\"Nama : \")\n",
    "nim = input(\"NIM : \")\n",
    "alamat = input(\"Alamat : \")\n",
    "\n",
    "mhsiswa = mahasiswa(nama, nim, alamat)\n",
    "print(\"\\n\")\n",
    "print(\"Nama Mahasiswa : \" + mhsiswa.name)\n",
    "print(\"NIM Mahasiswa : \" + mhsiswa.nim)\n",
    "print(\"Alamat Mahasiswa : \" + mhsiswa.alamat)"
   ]
  },
  {
   "cell_type": "code",
   "execution_count": null,
   "id": "62f000f9",
   "metadata": {},
   "outputs": [
    {
     "name": "stdout",
     "output_type": "stream",
     "text": [
      "a = tambah\n",
      "b = kurang\n",
      "c = kali\n",
      "d = bagi\n",
      "\n",
      "Operasi: b\n",
      "Angka 1: 2\n",
      "Angka 2: 3\n",
      "Hasil operasi dari  2  -  3  adalah  -1\n",
      "\n",
      "\n",
      "a = tambah\n",
      "b = kurang\n",
      "c = kali\n",
      "d = bagi\n",
      "\n"
     ]
    }
   ],
   "source": [
    "class calc:\n",
    "    def tambah(self, x, y):\n",
    "        return x+y\n",
    "    \n",
    "    def pengurangan(self, x, y):\n",
    "        return x-y\n",
    "        \n",
    "    def kali(self, x, y):\n",
    "        return x*y\n",
    "\n",
    "    def bagi(self, x, y):\n",
    "        return x/y\n",
    "\n",
    "kalku = calc()\n",
    "\n",
    "while True:\n",
    "\n",
    "    print(\"a = tambah\\nb = kurang\\nc = kali\\nd = bagi\\n\")\n",
    "    \n",
    "    op = (input(\"Operasi: \"))\n",
    "    \n",
    "    x = int(input(\"Angka 1: \"))\n",
    "    y = int(input(\"Angka 2: \"))\n",
    "        \n",
    "    if(op == \"a\"):\n",
    "            print(\"Hasil operasi dari \", x, \" + \", y, \" adalah \", kalku.tambah(x, y))\n",
    "    elif(op == \"b\"):\n",
    "            print(\"Hasil operasi dari \", x, \" - \", y, \" adalah \", kalku.pengurangan(x, y))\n",
    "    elif(op == \"c\"):\n",
    "            print(\"Hasil operasi dari \", x, \" * \", y, \" adalah \", kalku.kali(x, y))\n",
    "    elif(op == \"d\"):\n",
    "            print(\"Hasil operasi dari \", x, \" / \", y, \" adalah \", kalku.bagi(x, y))\n",
    "    print(\"\\n\")"
   ]
  },
  {
   "cell_type": "code",
   "execution_count": null,
   "id": "03c55a46",
   "metadata": {},
   "outputs": [],
   "source": []
  }
 ],
 "metadata": {
  "kernelspec": {
   "display_name": "Python 3",
   "language": "python",
   "name": "python3"
  },
  "language_info": {
   "codemirror_mode": {
    "name": "ipython",
    "version": 3
   },
   "file_extension": ".py",
   "mimetype": "text/x-python",
   "name": "python",
   "nbconvert_exporter": "python",
   "pygments_lexer": "ipython3",
   "version": "3.8.8"
  }
 },
 "nbformat": 4,
 "nbformat_minor": 5
}
